{
 "cells": [
  {
   "cell_type": "code",
   "execution_count": 1,
   "metadata": {},
   "outputs": [],
   "source": [
    "## Abaixo estao as \"libs\" (bibliotecas do python) contem funcoes prontas e uteis para esse script.\n",
    "\n",
    "import pandas as pd\n",
    "import requests\n",
    "from datetime import date, timedelta, datetime\n",
    "import xmltodict"
   ]
  },
  {
   "cell_type": "code",
   "execution_count": 2,
   "metadata": {},
   "outputs": [],
   "source": [
    "## dia_cotacao = date.today().strftime(\"%m-%d-%Y\")\n",
    "\n",
    "dia_cotacao = \"07-19-2023\""
   ]
  },
  {
   "cell_type": "code",
   "execution_count": 3,
   "metadata": {},
   "outputs": [],
   "source": [
    "## Endpoint (API) do banco central, origem dos dados.\n",
    "## Alem disso fazemos a interpolacao da string da URL atraves da substituicao do simbolo % para a nova data desejada.\n",
    "\n",
    "url_compra = \"https://olinda.bcb.gov.br/olinda/servico/PTAX/versao/v1/odata/CotacaoDolarDia(dataCotacao=@dataCotacao)?@dataCotacao='%s'&$top=1&$format=json&$select=cotacaoCompra\" % dia_cotacao\n",
    "\n",
    "url_venda = \"https://olinda.bcb.gov.br/olinda/servico/PTAX/versao/v1/odata/CotacaoDolarDia(dataCotacao=@dataCotacao)?@dataCotacao='%s'&$top=1&$format=json&$select=cotacaoVenda\" % dia_cotacao"
   ]
  },
  {
   "cell_type": "code",
   "execution_count": 4,
   "metadata": {},
   "outputs": [],
   "source": [
    "## Atribuimos as variaveis taxa_compra e taxa_venda para localizar as posicoes das cotacoes de compra e venda no novo json produzido e tambem navegamos na hierarquia do json atraves das suas chaves. \n",
    "\n",
    "taxa_compra = requests.get(url_compra).json()[\"value\"][0][\"cotacaoCompra\"]\n",
    "\n",
    "taxa_venda = requests.get(url_venda).json()[\"value\"][0][\"cotacaoVenda\"]"
   ]
  },
  {
   "cell_type": "code",
   "execution_count": 5,
   "metadata": {},
   "outputs": [],
   "source": [
    "## Definimos nova variavel ptax_completa para gravar a tabela com dia da cotacao, taxa_compra e taxa_venda.\n",
    "\n",
    "ptax_completa = {\"data\" : dia_cotacao, \n",
    "                 \"ptax_compra\" : taxa_compra, \n",
    "                 \"ptax_venda\" : taxa_venda}\n"
   ]
  },
  {
   "cell_type": "code",
   "execution_count": 6,
   "metadata": {},
   "outputs": [
    {
     "data": {
      "text/plain": [
       "{'data': '07-19-2023', 'ptax_compra': 4.7994, 'ptax_venda': 4.8}"
      ]
     },
     "execution_count": 6,
     "metadata": {},
     "output_type": "execute_result"
    }
   ],
   "source": [
    "ptax_completa"
   ]
  },
  {
   "cell_type": "code",
   "execution_count": null,
   "metadata": {},
   "outputs": [],
   "source": []
  }
 ],
 "metadata": {
  "kernelspec": {
   "display_name": "Python 3 (ipykernel)",
   "language": "python",
   "name": "python3"
  },
  "language_info": {
   "codemirror_mode": {
    "name": "ipython",
    "version": 3
   },
   "file_extension": ".py",
   "mimetype": "text/x-python",
   "name": "python",
   "nbconvert_exporter": "python",
   "pygments_lexer": "ipython3",
   "version": "3.10.6"
  }
 },
 "nbformat": 4,
 "nbformat_minor": 2
}
